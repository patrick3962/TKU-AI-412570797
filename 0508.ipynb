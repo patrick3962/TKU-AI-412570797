{
  "nbformat": 4,
  "nbformat_minor": 0,
  "metadata": {
    "colab": {
      "provenance": [],
      "authorship_tag": "ABX9TyNlnRQMmLagwc6KFutUcR2u",
      "include_colab_link": true
    },
    "kernelspec": {
      "name": "python3",
      "display_name": "Python 3"
    },
    "language_info": {
      "name": "python"
    }
  },
  "cells": [
    {
      "cell_type": "markdown",
      "metadata": {
        "id": "view-in-github",
        "colab_type": "text"
      },
      "source": [
        "<a href=\"https://colab.research.google.com/github/patrick3962/TKU-AI-412570797/blob/main/0508.ipynb\" target=\"_parent\"><img src=\"https://colab.research.google.com/assets/colab-badge.svg\" alt=\"Open In Colab\"/></a>"
      ]
    },
    {
      "cell_type": "code",
      "execution_count": 1,
      "metadata": {
        "colab": {
          "base_uri": "https://localhost:8080/"
        },
        "id": "P_zJVSpv0Cli",
        "outputId": "6c49a613-a23b-4e13-dace-6d4735b9daf7"
      },
      "outputs": [
        {
          "output_type": "stream",
          "name": "stdout",
          "text": [
            "請輸入你的體溫36.8\n",
            "體溫正常\n"
          ]
        }
      ],
      "source": [
        "temperature = float(input(\"請輸入你的體溫\"))\n",
        "if temperature >= 37.5:\n",
        "  print(\"體溫過高\")\n",
        "elif 37 <= temperature <= 37.4:\n",
        "  print(\"體溫略高\")\n",
        "elif 34 <= temperature <= 36.9:\n",
        "  print(\"體溫正常\")\n",
        "else:\n",
        "  print(\"體溫異常，請重新測量\")"
      ]
    },
    {
      "cell_type": "code",
      "source": [
        "score = int(input(\"請輸入成績\"))\n",
        "if (score >= 90):\n",
        "  print(\"A\")\n",
        "elif (80 <= score <= 89):\n",
        "  print(\"B\")\n",
        "elif (70 <= score <= 79):\n",
        "  print(\"C\")\n",
        "elif (60 <= score <= 69):\n",
        "  print(\"D\")\n",
        "else:\n",
        "  print(\"E\")"
      ],
      "metadata": {
        "colab": {
          "base_uri": "https://localhost:8080/"
        },
        "id": "VHLAtF020_IP",
        "outputId": "0612cf8f-12fc-416f-aec6-0cf5b5b4c97d"
      },
      "execution_count": 2,
      "outputs": [
        {
          "output_type": "stream",
          "name": "stdout",
          "text": [
            "請輸入成績65\n",
            "D\n"
          ]
        }
      ]
    },
    {
      "cell_type": "code",
      "source": [
        "month = int(input(\"請輸入月份\"))\n",
        "if month in[3,4,5]:\n",
        "  print(\"春天\")\n",
        "elif month in[6,7,8]:\n",
        "  print(\"夏天\")\n",
        "elif month in[9,10,11]:\n",
        "  print(\"秋天\")\n",
        "elif month in[12,1,2]:\n",
        "  print(\"冬天\")\n",
        "else:\n",
        "  print(\"月份不再範圍內\")"
      ],
      "metadata": {
        "colab": {
          "base_uri": "https://localhost:8080/"
        },
        "id": "bDaM5ZQf16eO",
        "outputId": "a6f20765-03d3-445a-fdf1-be91bc98864e"
      },
      "execution_count": 3,
      "outputs": [
        {
          "output_type": "stream",
          "name": "stdout",
          "text": [
            "請輸入月份7\n",
            "夏天\n"
          ]
        }
      ]
    }
  ]
}